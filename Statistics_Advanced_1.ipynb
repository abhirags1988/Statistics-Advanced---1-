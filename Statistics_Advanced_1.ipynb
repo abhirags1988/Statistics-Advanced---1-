{
  "nbformat": 4,
  "nbformat_minor": 0,
  "metadata": {
    "colab": {
      "provenance": []
    },
    "kernelspec": {
      "name": "python3",
      "display_name": "Python 3"
    },
    "language_info": {
      "name": "python"
    }
  },
  "cells": [
    {
      "cell_type": "markdown",
      "source": [
        "###1. What is a random variable in probability theory?"
      ],
      "metadata": {
        "id": "TyvS59EXJbzh"
      }
    },
    {
      "cell_type": "markdown",
      "source": [
        "-> In probability theory, a random variable is a numerical value that represents the outcome of a random experiment.\n",
        "\n",
        "It can be:\n",
        "\n",
        "Discrete – takes specific, countable values (e.g., number of heads in 3 coin tosses).\n",
        "\n",
        "Continuous – takes any value within a range (e.g., height, temperature).\n"
      ],
      "metadata": {
        "id": "G3ep3YW4JbwG"
      }
    },
    {
      "cell_type": "markdown",
      "source": [
        "###2. What are the types of random variables?\n"
      ],
      "metadata": {
        "id": "_oHAxS9pJbqG"
      }
    },
    {
      "cell_type": "markdown",
      "source": [
        "->There are mainly two types of random variables:\n",
        "\n",
        "1. Discrete Random Variable – Takes a finite or countable set of values.\n",
        "\n",
        "Example: Number of goals in a football match (0, 1, 2, …).\n",
        "\n",
        "\n",
        "2. Continuous Random Variable – Takes an infinite number of possible values within a range.\n",
        "\n",
        "Example: Height of students in a class (can be 160.2 cm, 160.25 cm, etc.).\n",
        "\n"
      ],
      "metadata": {
        "id": "vASGb6DqJbnJ"
      }
    },
    {
      "cell_type": "markdown",
      "source": [
        "###3. Explain the difference between discrete and continuous distributions.\n"
      ],
      "metadata": {
        "id": "-sDaiXYLJbkM"
      }
    },
    {
      "cell_type": "markdown",
      "source": [
        "-> Difference between Discrete and Continuous Distribution:\n",
        "\n",
        "Discrete Distribution: Deals with discrete random variables; probabilities are assigned to specific, countable outcomes.\n",
        "\n",
        "Example: Probability of rolling a 3 on a die.\n",
        "\n",
        "Continuous Distribution: Deals with continuous random variables; probabilities are assigned over intervals, not individual values.\n",
        "\n",
        "Example: Probability that a person’s height is between 160 cm and 165 cm."
      ],
      "metadata": {
        "id": "bysDbgbYJbhO"
      }
    },
    {
      "cell_type": "markdown",
      "source": [
        "###4. What is a binomial distribution, and how is it used in probability?\n"
      ],
      "metadata": {
        "id": "btTcDZR1Jbdb"
      }
    },
    {
      "cell_type": "markdown",
      "source": [
        "-> A binomial distribution is a probability distribution that describes the number of successes in a fixed number of independent Bernoulli trials (experiments with only two possible outcomes: success or failure), each with the same probability of success (p).\n",
        "\n",
        "Key points:\n",
        "\n",
        "Fixed number of trials (n)\n",
        "\n",
        "Two outcomes per trial (success/failure)\n",
        "\n",
        "Constant probability (p) of success\n",
        "\n",
        "Trials are independent\n",
        "\n",
        "\n",
        "Uses in probability:\n",
        "\n",
        "Modeling coin tosses (e.g., probability of getting exactly 4 heads in 6 tosses)\n",
        "\n",
        "Quality control (e.g., defective items in a batch)\n",
        "\n",
        "Survey results (e.g., number of people agreeing in a sample)"
      ],
      "metadata": {
        "id": "OhDns6ZgJbaC"
      }
    },
    {
      "cell_type": "markdown",
      "source": [
        "###5. What is the standard normal distribution, and why is it important?\n"
      ],
      "metadata": {
        "id": "KWSey90GJbXb"
      }
    },
    {
      "cell_type": "markdown",
      "source": [
        "-> The standard normal distribution is a special normal distribution with a mean of 0 and a standard deviation of 1.\n",
        "\n",
        "Importance:\n",
        "\n",
        "It serves as a reference to convert any normal distribution to a standard form using z-scores.\n",
        "\n",
        "Makes calculating probabilities and comparing values easier across different normal distributions."
      ],
      "metadata": {
        "id": "QJVVhgv_JbUf"
      }
    },
    {
      "cell_type": "markdown",
      "source": [
        "###6. What is the Central Limit Theorem (CLT), and why is it critical in statistics?\n"
      ],
      "metadata": {
        "id": "khwo8yd-JbRX"
      }
    },
    {
      "cell_type": "markdown",
      "source": [
        "-> The Central Limit Theorem (CLT) states that the sampling distribution of the sample mean approaches a normal distribution as the sample size becomes large, regardless of the original population’s distribution.\n",
        "\n",
        "Why it’s critical:\n",
        "\n",
        "Allows us to use normal distribution techniques for inference even when the population isn’t normal.\n",
        "\n",
        "Justifies many statistical methods like confidence intervals and hypothesis testing."
      ],
      "metadata": {
        "id": "Ls-aRtshJbOe"
      }
    },
    {
      "cell_type": "markdown",
      "source": [
        "###7. What is the significance of confidence intervals in statistical analysis?\n"
      ],
      "metadata": {
        "id": "dtWj5q0fJbLq"
      }
    },
    {
      "cell_type": "markdown",
      "source": [
        "-> Confidence intervals provide a range of values within which we expect the true population parameter (like a mean or proportion) to lie, with a certain level of confidence (e.g., 95%).\n",
        "\n",
        "Significance:\n",
        "\n",
        "They give an estimate of uncertainty around a sample statistic.\n",
        "\n",
        "Help make informed decisions by showing the precision of estimates.\n",
        "\n",
        "More informative than a single point estimate because they indicate reliability."
      ],
      "metadata": {
        "id": "g9AQtzdyJbI2"
      }
    },
    {
      "cell_type": "markdown",
      "source": [
        "###8. What is the concept of expected value in a probability distribution?\n"
      ],
      "metadata": {
        "id": "v43H5cpWJbF1"
      }
    },
    {
      "cell_type": "markdown",
      "source": [
        "-> The expected value of a probability distribution is the long-term average or mean value of a random variable if the experiment is repeated many times.\n",
        "\n",
        "It represents the weighted average of all possible outcomes, where each outcome is weighted by its probability."
      ],
      "metadata": {
        "id": "Yh9liSSAJbCq"
      }
    },
    {
      "cell_type": "markdown",
      "source": [
        "###9.Write a Python program to generate 1000 random numbers from a normal\n",
        "distribution with mean = 50 and standard deviation = 5. Compute its mean and standard\n",
        "deviation using NumPy, and draw a histogram to visualize the distribution.\n"
      ],
      "metadata": {
        "id": "VrNP2rMNO0Su"
      }
    },
    {
      "cell_type": "code",
      "source": [
        "import numpy as np\n",
        "import matplotlib.pyplot as plt\n",
        "\n",
        "# Parameters\n",
        "mean = 50\n",
        "std_dev = 5\n",
        "num_samples = 1000\n",
        "\n",
        "# Generate 1000 random numbers from normal distribution\n",
        "data = np.random.normal(mean, std_dev, num_samples)\n",
        "\n",
        "# Compute mean and standard deviation\n",
        "computed_mean = np.mean(data)\n",
        "computed_std = np.std(data)\n",
        "\n",
        "print(f\"Computed Mean: {computed_mean:.2f}\")\n",
        "print(f\"Computed Standard Deviation: {computed_std:.2f}\")\n",
        "\n",
        "# Plot histogram\n",
        "plt.hist(data, bins=30, color='skyblue', edgecolor='black')\n",
        "plt.title('Histogram of Normally Distributed Data')\n",
        "plt.xlabel('Value')\n",
        "plt.ylabel('Frequency')\n",
        "plt.show()"
      ],
      "metadata": {
        "colab": {
          "base_uri": "https://localhost:8080/",
          "height": 507
        },
        "id": "M8-6f3l-PkrY",
        "outputId": "be5d3d13-92dd-4da4-eb92-3254b0d0cf61"
      },
      "execution_count": 1,
      "outputs": [
        {
          "output_type": "stream",
          "name": "stdout",
          "text": [
            "Computed Mean: 49.93\n",
            "Computed Standard Deviation: 5.01\n"
          ]
        },
        {
          "output_type": "display_data",
          "data": {
            "text/plain": [
              "<Figure size 640x480 with 1 Axes>"
            ],
            "image/png": "[encoded data removed]"
          },
          "metadata": {}
        }
      ]
    },
    {
      "cell_type": "markdown",
      "source": [
        "###10. You are working as a data analyst for a retail company. The company has\n",
        "collected daily sales data for 2 years and wants you to identify the overall sales trend.\n",
        "\n",
        "daily_sales = [220, 245, 210, 265, 230, 250, 260, 275, 240, 255,\n",
        "235, 260, 245, 250, 225, 270, 265, 255, 250, 260]\n",
        "\n",
        "● Explain how you would apply the Central Limit Theorem to estimate the average sales with a 95% confidence interval.\n",
        "\n",
        "● Write the Python code to compute the mean sales and its confidence interval."
      ],
      "metadata": {
        "id": "B39BJDEYQMV0"
      }
    },
    {
      "cell_type": "markdown",
      "source": [
        "-> We have daily sales data for 20 days:\n",
        "[220,245,210,265,230,250,260,275,240,255,235,260,245,250,225,270,265,255,250,260]\n",
        "\n",
        "The Central Limit Theorem (CLT) tells us that, regardless of the population distribution, the sampling distribution of the sample mean will be approximately normal if the sample size is large enough (20 is reasonable for a rough estimate).\n",
        "\n",
        "Using this, we can calculate the sample mean and construct a 95% confidence interval (CI) around it.\n",
        "\n",
        "The formula for the 95% CI is:\n",
        "\n",
        "\n",
        "\\bar{x} \\pm z_{\\frac{\\alpha}{2}} \\times \\frac{s}{\\sqrt{n}}\n",
        "\n",
        " = sample mean\n",
        "\n",
        " = sample standard deviation\n",
        "\n",
        " = sample size\n",
        "\n",
        " = z-score for 95% confidence ≈ 1.96\n"
      ],
      "metadata": {
        "id": "8IZTIPQSO0QV"
      }
    },
    {
      "cell_type": "code",
      "source": [
        "import numpy as np\n",
        "from scipy import stats\n",
        "\n",
        "# Daily sales data\n",
        "sales = np.array([220, 245, 210, 265, 230, 250, 260, 275, 240, 255,\n",
        "                  235, 260, 245, 250, 225, 270, 265, 255, 250, 260])\n",
        "\n",
        "# Sample statistics\n",
        "mean_sales = np.mean(sales)\n",
        "std_sales = np.std(sales, ddof=1)  # sample standard deviation\n",
        "n = len(sales)\n",
        "\n",
        "# Confidence level\n",
        "confidence = 0.95\n",
        "alpha = 1 - confidence\n",
        "\n",
        "# z-score for two-tailed 95% confidence\n",
        "z_score = stats.norm.ppf(1 - alpha / 2)\n",
        "\n",
        "# Margin of error\n",
        "margin_error = z_score * (std_sales / np.sqrt(n))\n",
        "\n",
        "# Confidence interval\n",
        "lower_bound = mean_sales - margin_error\n",
        "upper_bound = mean_sales + margin_error\n",
        "\n",
        "print(f\"Mean sales: {mean_sales:.2f}\")\n",
        "print(f\"95% Confidence Interval: ({lower_bound:.2f}, {upper_bound:.2f})\")"
      ],
      "metadata": {
        "colab": {
          "base_uri": "https://localhost:8080/"
        },
        "id": "nxNwzTYLWLRs",
        "outputId": "9330e9bd-0158-4952-c3c9-c8e751fc7453"
      },
      "execution_count": 2,
      "outputs": [
        {
          "output_type": "stream",
          "name": "stdout",
          "text": [
            "Mean sales: 248.25\n",
            "95% Confidence Interval: (240.68, 255.82)\n"
          ]
        }
      ]
    }
  ]
}